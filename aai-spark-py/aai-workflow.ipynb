{
 "cells": [
  {
   "cell_type": "code",
   "execution_count": 1,
   "metadata": {},
   "outputs": [],
   "source": [
    "import collections\n",
    "import numpy as np\n",
    "from operator import add\n",
    "from functools import reduce\n",
    "from bio_spark.io.fasta_reader import FASTAReader\n",
    "from pyspark.sql import Row, SparkSession, functions\n",
    "from pyspark.context import SparkContext, SparkConf"
   ]
  },
  {
   "cell_type": "code",
   "execution_count": 27,
   "metadata": {},
   "outputs": [],
   "source": [
    "def seq2kmer(seq_):\n",
    "    value = seq_[0].strip()    \n",
    "    k = 3\n",
    "    num_kmers = len(value) - k + 1\n",
    "    kmers_list = [value[n*k:k*(n+1)] for n in range(0, num_kmers)]\n",
    "    \n",
    "    return kmers_list\n",
    "\n",
    "\n",
    "seq2kmer_udf = functions.udf(seq2kmer)\n",
    "\n",
    "\n",
    "def kmers_list2kmers_freq_dict(kmers_list):\n",
    "    kmers_list_np = np.array(kmers_list)\n",
    "    flatten_data = kmers_list_np.flatten()\n",
    "    unique, counts = np.unique(flatten_data, return_counts=True)\n",
    "    kmers_list = list(zip(unique.tolist(), counts.tolist()))\n",
    "    return kmers_list\n",
    "\n",
    "\n",
    "kmers_list2kmers_freq_dict_udf = functions.udf(kmers_list2kmers_freq_dict)"
   ]
  },
  {
   "cell_type": "code",
   "execution_count": 3,
   "metadata": {},
   "outputs": [],
   "source": [
    "sConf = SparkConf(\"spark://localhost:7077\")"
   ]
  },
  {
   "cell_type": "code",
   "execution_count": 4,
   "metadata": {},
   "outputs": [],
   "source": [
    "sc = SparkContext(conf=sConf)\n",
    "spark = SparkSession(sc)"
   ]
  },
  {
   "cell_type": "code",
   "execution_count": 8,
   "metadata": {},
   "outputs": [
    {
     "name": "stdout",
     "output_type": "stream",
     "text": [
      "Prochlorococcus_sp_W10_genomic.fna Prochlorococcus_sp_W4_genomic.fna\r\n",
      "Prochlorococcus_sp_W11_genomic.fna Prochlorococcus_sp_W6_genomic.fna\r\n",
      "Prochlorococcus_sp_W12_genomic.fna Prochlorococcus_sp_W7_genomic.fna\r\n",
      "Prochlorococcus_sp_W2_genomic.fna  Prochlorococcus_sp_W8_genomic.fna\r\n",
      "Prochlorococcus_sp_W3_genomic.fna  Prochlorococcus_sp_W9_genomic.fna\r\n"
     ]
    }
   ],
   "source": [
    "!ls ../data/genomes"
   ]
  },
  {
   "cell_type": "code",
   "execution_count": 15,
   "metadata": {},
   "outputs": [],
   "source": [
    "plain_df = sc.textFile(\n",
    "    \"../data/genomes/Prochlorococcus_sp_W10_genomic.fna\"\n",
    ").map(lambda x: Row(row=x)).toDF()"
   ]
  },
  {
   "cell_type": "code",
   "execution_count": 16,
   "metadata": {},
   "outputs": [],
   "source": [
    "reader = FASTAReader(sc)"
   ]
  },
  {
   "cell_type": "code",
   "execution_count": 24,
   "metadata": {},
   "outputs": [],
   "source": [
    "parsedDF = reader.read(plain_df, \"fasta\")"
   ]
  },
  {
   "cell_type": "code",
   "execution_count": 25,
   "metadata": {},
   "outputs": [
    {
     "data": {
      "text/plain": [
       "DataFrame[seqID: struct<row:string>, seq: struct<row:string>]"
      ]
     },
     "execution_count": 25,
     "metadata": {},
     "output_type": "execute_result"
    }
   ],
   "source": [
    "parsedDF.coalesce(2)"
   ]
  },
  {
   "cell_type": "code",
   "execution_count": 28,
   "metadata": {},
   "outputs": [],
   "source": [
    "kmers_of_seqs_df = parsedDF.withColumn(\"kmers\", seq2kmer_udf(\"seq\"))"
   ]
  },
  {
   "cell_type": "code",
   "execution_count": 31,
   "metadata": {},
   "outputs": [
    {
     "ename": "NameError",
     "evalue": "name 'kmers_list2kmers_req_dict_udf' is not defined",
     "output_type": "error",
     "traceback": [
      "\u001b[0;31m---------------------------------------------------------------------------\u001b[0m",
      "\u001b[0;31mNameError\u001b[0m                                 Traceback (most recent call last)",
      "\u001b[0;32m<ipython-input-31-735263084494>\u001b[0m in \u001b[0;36m<module>\u001b[0;34m\u001b[0m\n\u001b[1;32m      5\u001b[0m                         .alias('kmers_list'))\\\n\u001b[1;32m      6\u001b[0m                         .withColumn('kmers_freq',\n\u001b[0;32m----> 7\u001b[0;31m                         \u001b[0mkmers_list2kmers_req_dict_udf\u001b[0m\u001b[0;34m(\u001b[0m\u001b[0;34m'kmers_list'\u001b[0m\u001b[0;34m)\u001b[0m\u001b[0;34m\u001b[0m\u001b[0m\n\u001b[0m\u001b[1;32m      8\u001b[0m                                    )\n",
      "\u001b[0;31mNameError\u001b[0m: name 'kmers_list2kmers_req_dict_udf' is not defined"
     ]
    }
   ],
   "source": [
    "#print(kmers_of_seqs_df.show())\n",
    "\n",
    "grouped_by_seq_df = kmers_of_seqs_df.groupby(\"seqID\")\\\n",
    "                        .agg(functions.collect_list('kmers')\\\n",
    "                        .alias('kmers_list'))\\\n",
    "                        .withColumn('kmers_freq',\n",
    "                        kmers_list2kmers_req_dict_udf('kmers_list')\n",
    "                                   )"
   ]
  },
  {
   "cell_type": "code",
   "execution_count": null,
   "metadata": {},
   "outputs": [],
   "source": []
  }
 ],
 "metadata": {
  "kernelspec": {
   "display_name": "Python [conda env:pyspark]",
   "language": "python",
   "name": "conda-env-pyspark-py"
  },
  "language_info": {
   "codemirror_mode": {
    "name": "ipython",
    "version": 3
   },
   "file_extension": ".py",
   "mimetype": "text/x-python",
   "name": "python",
   "nbconvert_exporter": "python",
   "pygments_lexer": "ipython3",
   "version": "3.7.0"
  }
 },
 "nbformat": 4,
 "nbformat_minor": 2
}
